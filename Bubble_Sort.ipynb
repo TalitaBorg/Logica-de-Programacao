{
  "nbformat": 4,
  "nbformat_minor": 0,
  "metadata": {
    "colab": {
      "provenance": [],
      "authorship_tag": "ABX9TyMS1M2uETzo2dcYgnU1QJso",
      "include_colab_link": true
    },
    "kernelspec": {
      "name": "python3",
      "display_name": "Python 3"
    },
    "language_info": {
      "name": "python"
    }
  },
  "cells": [
    {
      "cell_type": "markdown",
      "metadata": {
        "id": "view-in-github",
        "colab_type": "text"
      },
      "source": [
        "<a href=\"https://colab.research.google.com/github/TalitaBorg/Logica-de-Programacao/blob/main/Bubble_Sort.ipynb\" target=\"_parent\"><img src=\"https://colab.research.google.com/assets/colab-badge.svg\" alt=\"Open In Colab\"/></a>"
      ]
    },
    {
      "cell_type": "code",
      "execution_count": 2,
      "metadata": {
        "colab": {
          "base_uri": "https://localhost:8080/"
        },
        "id": "BNY41jK_eAdP",
        "outputId": "67447e77-da80-404f-d890-ecfedffec8fb"
      },
      "outputs": [
        {
          "output_type": "stream",
          "name": "stdout",
          "text": [
            "3\n",
            "4\n",
            "7\n",
            "8\n",
            "12\n"
          ]
        }
      ],
      "source": [
        "L = [7,4,3,12,8]\n",
        "tamanho = 5\n",
        "while tamanho >1:\n",
        "  trocou = False\n",
        "  indice = 0\n",
        "  while(indice<(tamanho-1)):\n",
        "    if L[indice] > L[indice+1]:\n",
        "      trocou = True\n",
        "      temp = L[indice]\n",
        "      L[indice] = L[indice+1]\n",
        "      L[indice+1] = temp\n",
        "    indice = indice + 1\n",
        "  if not trocou:\n",
        "    break\n",
        "  tamanho = tamanho -1\n",
        "for e in L:\n",
        "  print(e)"
      ]
    }
  ]
}