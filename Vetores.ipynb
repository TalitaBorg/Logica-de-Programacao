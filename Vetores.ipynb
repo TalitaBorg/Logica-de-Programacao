{
  "nbformat": 4,
  "nbformat_minor": 0,
  "metadata": {
    "colab": {
      "provenance": [],
      "authorship_tag": "ABX9TyPwt3uvqwMXEkrqszaMF+e1",
      "include_colab_link": true
    },
    "kernelspec": {
      "name": "python3",
      "display_name": "Python 3"
    },
    "language_info": {
      "name": "python"
    }
  },
  "cells": [
    {
      "cell_type": "markdown",
      "metadata": {
        "id": "view-in-github",
        "colab_type": "text"
      },
      "source": [
        "<a href=\"https://colab.research.google.com/github/TalitaBorg/Logica-de-Programacao/blob/main/Vetores.ipynb\" target=\"_parent\"><img src=\"https://colab.research.google.com/assets/colab-badge.svg\" alt=\"Open In Colab\"/></a>"
      ]
    },
    {
      "cell_type": "code",
      "execution_count": 9,
      "metadata": {
        "colab": {
          "base_uri": "https://localhost:8080/"
        },
        "id": "D7Uo_0a0R50o",
        "outputId": "b5b01c60-c8d7-42cb-9f3e-05bbad692c95"
      },
      "outputs": [
        {
          "output_type": "stream",
          "name": "stdout",
          "text": [
            "[3, 6, 9, 28, 29, 45]\n"
          ]
        }
      ],
      "source": [
        "vetor = [6,2,1,3,9]\n",
        "\n",
        "#Acesse o índice 4 e imprima o valor na tela\n",
        "#print(vetor[4])\n",
        "#Tamanho da Lista\n",
        "tamanho = len(vetor)\n",
        "#print(tamanho)\n",
        "#Substituir no índice 2, o elemento para 45\n",
        "vetor[2] = 45\n",
        "#print(vetor)\n",
        "vetor.append(28)\n",
        "#print(vetor)\n",
        "vetor.insert(7,29)\n",
        "#print(vetor)\n",
        "del vetor[1]\n",
        "#print(vetor)\n",
        "vetor.sort()\n",
        "print(vetor)\n",
        "\n"
      ]
    },
    {
      "cell_type": "code",
      "source": [
        "vetor = [5,10,15,20,25]\n",
        "soma = sum(vetor) #soma dos elementos do vetor\n",
        "print(soma)"
      ],
      "metadata": {
        "colab": {
          "base_uri": "https://localhost:8080/"
        },
        "id": "gzZRXqujT730",
        "outputId": "6b866a04-e5f0-4a78-ca8e-d4f1b9eabee0"
      },
      "execution_count": 10,
      "outputs": [
        {
          "output_type": "stream",
          "name": "stdout",
          "text": [
            "75\n"
          ]
        }
      ]
    },
    {
      "cell_type": "code",
      "source": [
        "vetor = [5,10,15,20,25]\n",
        "maximo = max(vetor) #Elemento máximo no vetor\n",
        "print(maximo)"
      ],
      "metadata": {
        "colab": {
          "base_uri": "https://localhost:8080/"
        },
        "id": "5ZvXvfeNUDB9",
        "outputId": "94f0bc29-648d-4a47-a7dd-1f2cce6b9f0c"
      },
      "execution_count": 11,
      "outputs": [
        {
          "output_type": "stream",
          "name": "stdout",
          "text": [
            "25\n"
          ]
        }
      ]
    },
    {
      "cell_type": "code",
      "source": [
        "vetor = [5,10,15,20,25]\n",
        "minimo = min(vetor) #Elemento mínimo no vetor\n",
        "print(minimo)"
      ],
      "metadata": {
        "colab": {
          "base_uri": "https://localhost:8080/"
        },
        "id": "tzA0pF8WUWkp",
        "outputId": "c4380eaf-4e83-4300-e366-43b5d5b18d84"
      },
      "execution_count": 12,
      "outputs": [
        {
          "output_type": "stream",
          "name": "stdout",
          "text": [
            "5\n"
          ]
        }
      ]
    },
    {
      "cell_type": "code",
      "source": [
        "vetor1 =[2,4,6,8]\n",
        "vetor2 =[1,3,5,7]\n",
        "for i in range(len(vetor1)):\n",
        "  soma = [vetor1[i]+vetor2[i]]\n",
        "  print(f\"{vetor1[i]} + {vetor2[i]} = {soma}\")\n",
        "  #print(soma)"
      ],
      "metadata": {
        "colab": {
          "base_uri": "https://localhost:8080/"
        },
        "id": "Yy1vuNTTUgIb",
        "outputId": "0e429254-0f92-4764-a468-8bb3c91620df"
      },
      "execution_count": 19,
      "outputs": [
        {
          "output_type": "stream",
          "name": "stdout",
          "text": [
            "2 + 1 = [3]\n",
            "4 + 3 = [7]\n",
            "6 + 5 = [11]\n",
            "8 + 7 = [15]\n"
          ]
        }
      ]
    },
    {
      "cell_type": "code",
      "source": [
        "vetor1 =[2,4,6,8]\n",
        "vetor2 =[1,3,5,7]\n",
        "for i in range(len(vetor1)):\n",
        "  produto = [vetor1[i]*vetor2[i]]\n",
        "  print(f\"{vetor1[i]} * {vetor2[i]} = {produto}\")"
      ],
      "metadata": {
        "colab": {
          "base_uri": "https://localhost:8080/"
        },
        "id": "7Ra8Ky-aWkOZ",
        "outputId": "06d358e4-6dff-4c1a-cf1b-5043ba13aefb"
      },
      "execution_count": 20,
      "outputs": [
        {
          "output_type": "stream",
          "name": "stdout",
          "text": [
            "2 * 1 = [2]\n",
            "4 * 3 = [12]\n",
            "6 * 5 = [30]\n",
            "8 * 7 = [56]\n"
          ]
        }
      ]
    },
    {
      "cell_type": "code",
      "source": [
        "vetor = [10,20,20,20]\n",
        "print(vetor.count(20)) #contar quantas vezes o número 20 aparece no vetor\n"
      ],
      "metadata": {
        "colab": {
          "base_uri": "https://localhost:8080/"
        },
        "id": "-citZPu7W39z",
        "outputId": "4d49775a-a453-4f69-b4e8-cd0d3efa8f70"
      },
      "execution_count": 23,
      "outputs": [
        {
          "output_type": "stream",
          "name": "stdout",
          "text": [
            "3\n"
          ]
        }
      ]
    },
    {
      "cell_type": "code",
      "source": [
        "vetor = [10,20,40,50]\n",
        "print(vetor.index(50)) #qual posição (índice) o valor 50 está no vetor"
      ],
      "metadata": {
        "colab": {
          "base_uri": "https://localhost:8080/"
        },
        "id": "I70JbH_zXOo2",
        "outputId": "1c9797bb-efe3-46ac-c62c-aed4fde973ff"
      },
      "execution_count": 25,
      "outputs": [
        {
          "output_type": "stream",
          "name": "stdout",
          "text": [
            "3\n"
          ]
        }
      ]
    }
  ]
}