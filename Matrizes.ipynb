{
  "nbformat": 4,
  "nbformat_minor": 0,
  "metadata": {
    "colab": {
      "provenance": [],
      "authorship_tag": "ABX9TyO3ux3ZKuYsgI6P9Ypt0xJ2",
      "include_colab_link": true
    },
    "kernelspec": {
      "name": "python3",
      "display_name": "Python 3"
    },
    "language_info": {
      "name": "python"
    }
  },
  "cells": [
    {
      "cell_type": "markdown",
      "metadata": {
        "id": "view-in-github",
        "colab_type": "text"
      },
      "source": [
        "<a href=\"https://colab.research.google.com/github/TalitaBorg/Logica-de-Programacao/blob/main/Matrizes.ipynb\" target=\"_parent\"><img src=\"https://colab.research.google.com/assets/colab-badge.svg\" alt=\"Open In Colab\"/></a>"
      ]
    },
    {
      "cell_type": "code",
      "execution_count": 4,
      "metadata": {
        "colab": {
          "base_uri": "https://localhost:8080/"
        },
        "id": "bIhi4QwBF0eT",
        "outputId": "c1bd146e-392e-438e-bf5c-38a273f42b4c"
      },
      "outputs": [
        {
          "output_type": "stream",
          "name": "stdout",
          "text": [
            "HRV\n",
            "Golf\n",
            "Focus\n",
            "Argo\n",
            "Pólo\n"
          ]
        }
      ],
      "source": [
        "#vetor\n",
        "\n",
        "carros =[\"HRV\", \"Golf\", \"Focus\", \"Argo\"]\n",
        "carros.append(\"Pólo\")\n",
        "for i in carros:\n",
        "  print(i)\n"
      ]
    },
    {
      "cell_type": "code",
      "source": [
        "#Matriz\n",
        "\n",
        "carros = [\n",
        "         [\"Modelo\", \"HRV\"],\n",
        "         [\"Fabricante\", \"Honda\"],\n",
        "         [\"Ano\", 2016]\n",
        "]\n",
        "\n",
        "#print(carros[2][1])\n",
        "carros.append([\"Cor\", \"Prata\"])\n",
        "for linha, coluna in carros:\n",
        "  print(\"Linha: \" + linha + \"|\"  + \"Coluna: \" + coluna)\n",
        "  print(linha + \"|\"  + str(coluna))\n",
        "#print(carros[3][0])\n",
        "\n"
      ],
      "metadata": {
        "colab": {
          "base_uri": "https://localhost:8080/"
        },
        "id": "SQSFYHATLMmp",
        "outputId": "ef8f51fe-5edd-41da-a4ee-bb3c448d0856"
      },
      "execution_count": 21,
      "outputs": [
        {
          "output_type": "stream",
          "name": "stdout",
          "text": [
            "Cor\n"
          ]
        }
      ]
    },
    {
      "cell_type": "code",
      "source": [
        "A = [\n",
        "    [1,2,3],\n",
        "    [4,5,6]\n",
        "]\n",
        "\n",
        "B = [\n",
        "    [4,5,6],\n",
        "    [7,8,9]\n",
        "]\n",
        "\n",
        "Soma_matriz = []\n",
        "\n",
        "#Somando elemento por elemento\n",
        "for linhas in range(len(A)):\n",
        "  linha = []\n",
        "  for colunas in range(len(A[0])):\n",
        "    soma = A[linhas][colunas] + B[linhas][colunas]\n",
        "    linha.append(soma)\n",
        "  Soma_matriz.append(linha)\n",
        "print(\"Matriz soma: \")\n",
        "for linha in Soma_matriz:\n",
        "  print(linha)"
      ],
      "metadata": {
        "colab": {
          "base_uri": "https://localhost:8080/"
        },
        "id": "kV9SlFzwPudd",
        "outputId": "6ecede31-3295-4efe-ba7e-4f0eb35cc3b6"
      },
      "execution_count": 25,
      "outputs": [
        {
          "output_type": "stream",
          "name": "stdout",
          "text": [
            "Matriz soma: \n",
            "[-3, -3, -3]\n",
            "[-3, -3, -3]\n"
          ]
        }
      ]
    },
    {
      "cell_type": "code",
      "source": [
        "# Multiplicação de matriz 2x3 por 3x2\n",
        "\n",
        "# Matriz A (2x3)\n",
        "A = [\n",
        "    [1, 2, 3],\n",
        "    [4, 5, 6]\n",
        "]\n",
        "\n",
        "# Matriz B (3x2)\n",
        "B = [\n",
        "    [7, 8],\n",
        "    [9, 10],\n",
        "    [11, 12]\n",
        "]\n",
        "\n",
        "# Matriz resultado (2x2)\n",
        "resultado = [[0, 0],\n",
        "             [0, 0]]\n",
        "\n",
        "# Multiplicação de matrizes\n",
        "for i in range(2):        # linhas de A\n",
        "    for j in range(2):    # colunas de B\n",
        "        for k in range(3):  # elementos comuns\n",
        "            resultado[i][j] += A[i][k] * B[k][j]\n",
        "\n",
        "# Exibir resultado\n",
        "print(\"Matriz Resultante (2x2):\")\n",
        "for linha in resultado:\n",
        "    print(linha)\n"
      ],
      "metadata": {
        "colab": {
          "base_uri": "https://localhost:8080/"
        },
        "id": "k-a_0_oMh0vI",
        "outputId": "327f2d5c-df9b-4e15-b48b-6ae4535b6b8d"
      },
      "execution_count": 29,
      "outputs": [
        {
          "output_type": "stream",
          "name": "stdout",
          "text": [
            "Matriz Resultante (2x2):\n",
            "[58, 64]\n",
            "[139, 154]\n"
          ]
        }
      ]
    }
  ]
}