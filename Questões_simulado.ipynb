{
  "nbformat": 4,
  "nbformat_minor": 0,
  "metadata": {
    "colab": {
      "provenance": [],
      "authorship_tag": "ABX9TyMeRkyY3ywhQ9ClrC+ueM4q",
      "include_colab_link": true
    },
    "kernelspec": {
      "name": "python3",
      "display_name": "Python 3"
    },
    "language_info": {
      "name": "python"
    }
  },
  "cells": [
    {
      "cell_type": "markdown",
      "metadata": {
        "id": "view-in-github",
        "colab_type": "text"
      },
      "source": [
        "<a href=\"https://colab.research.google.com/github/TalitaBorg/Logica-de-Programacao/blob/main/Quest%C3%B5es_simulado.ipynb\" target=\"_parent\"><img src=\"https://colab.research.google.com/assets/colab-badge.svg\" alt=\"Open In Colab\"/></a>"
      ]
    },
    {
      "cell_type": "code",
      "execution_count": 2,
      "metadata": {
        "colab": {
          "base_uri": "https://localhost:8080/"
        },
        "id": "Cg2MSA5N23du",
        "outputId": "ac6ab5c1-e6e5-447e-e0d1-d50d6d7780c1"
      },
      "outputs": [
        {
          "output_type": "stream",
          "name": "stdout",
          "text": [
            "Digite uma idade homem1: 20\n",
            "Digite uma idade homem2: 16\n",
            "Digite uma idade mulher1: 32\n",
            "Digite uma idade mulher2: 82\n",
            "1312\n"
          ]
        }
      ],
      "source": [
        "#Questão1\n",
        "idadeHomem1 = int(input(\"Digite uma idade homem1: \"))\n",
        "idadeHomem2 = int(input(\"Digite uma idade homem2: \"))\n",
        "idadeMulher1 = int(input(\"Digite uma idade mulher1: \"))\n",
        "idadeMulher2 = int(input(\"Digite uma idade mulher2: \"))\n",
        "\n",
        "if(idadeHomem1 > idadeHomem2):\n",
        "  idadeHomemMaisVelho = idadeHomem1\n",
        "  idadeHomemMaisNovo = idadeHomem2\n",
        "\n",
        "else:\n",
        "  idadeHomemMaisVelho = idadeHomem2\n",
        "  idadeHomemMaisNovo = idadeHomem1\n",
        "\n",
        "if(idadeMulher1 > idadeMulher2):\n",
        "  idadeMulherMaisNova = idadeMulher2\n",
        "  idadeMulherMaisVelha = idadeMulher1\n",
        "\n",
        "else:\n",
        "   idadeMulherMaisNova = idadeMulher1\n",
        "   idadeMulherMaisVelha = idadeMulher2\n",
        "#Letra a\n",
        "soma = idadeHomemMaisVelho +  idadeMulherMaisNova\n",
        "print(soma)\n",
        "#Letra b\n",
        "produto = idadeHomemMaisNovo * idadeMulherMaisVelha\n",
        "print(produto)\n"
      ]
    },
    {
      "cell_type": "code",
      "source": [
        "#Exercício 2 com quantidade fixa\n",
        "quantidade = 2\n",
        "numero1 = int(input(\"Digite um número: \"))\n",
        "numero2 = int(input(\"Digite outro número: \"))\n",
        "if(numero1 > numero2):\n",
        "  maior = numero1\n",
        "  menor = numero2\n",
        "\n",
        "else:\n",
        "  maior = numero2\n",
        "  menor = numero1\n",
        "\n",
        "media = (numero1 + numero2)/2\n",
        "print(media)\n",
        "#print(maior)\n",
        "#print(menor)\n"
      ],
      "metadata": {
        "colab": {
          "base_uri": "https://localhost:8080/"
        },
        "id": "5BSluOcs53R8",
        "outputId": "e8d0c09a-37b5-4300-bc09-c77f73fde635"
      },
      "execution_count": 5,
      "outputs": [
        {
          "output_type": "stream",
          "name": "stdout",
          "text": [
            "Digite um número: 4\n",
            "Digite outro número: 2\n",
            "3.0\n"
          ]
        }
      ]
    },
    {
      "cell_type": "code",
      "source": [
        "#Exercício 2 com quantidade variável\n",
        "quantidade = int(input(\"Digite a quantidade de números: \"))\n",
        "contador = 0\n",
        "soma = 0\n",
        "while (contador < quantidade):\n",
        "  numero1 = int(input(\"Digite um número: \"))\n",
        "  maior = numero1\n",
        "  menor = numero1\n",
        "  soma = soma + numero1\n",
        "  contador = contador + 1\n",
        "  if (numero1 > maior):\n",
        "    maior = numero1\n",
        "  else:\n",
        "    menor = numero2\n",
        "\n",
        "media = (soma)/quantidade\n",
        "print(media)\n",
        "print(maior)\n",
        "print(menor)\n"
      ],
      "metadata": {
        "colab": {
          "base_uri": "https://localhost:8080/"
        },
        "id": "-8nIKPlm7Y-m",
        "outputId": "ad6dc7d7-3579-4d17-9201-775fc70b566b"
      },
      "execution_count": 19,
      "outputs": [
        {
          "output_type": "stream",
          "name": "stdout",
          "text": [
            "Digite a quantidade de números: 4\n",
            "Digite um número: 2\n",
            "Digite um número: 4\n",
            "Digite um número: 6\n",
            "Digite um número: 8\n",
            "5.0\n",
            "8\n",
            "2\n"
          ]
        }
      ]
    }
  ]
}