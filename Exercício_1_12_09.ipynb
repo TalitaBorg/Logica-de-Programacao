{
  "nbformat": 4,
  "nbformat_minor": 0,
  "metadata": {
    "colab": {
      "provenance": [],
      "authorship_tag": "ABX9TyNEgyNiFRXf1i0N8l7tc8Jv",
      "include_colab_link": true
    },
    "kernelspec": {
      "name": "python3",
      "display_name": "Python 3"
    },
    "language_info": {
      "name": "python"
    }
  },
  "cells": [
    {
      "cell_type": "markdown",
      "metadata": {
        "id": "view-in-github",
        "colab_type": "text"
      },
      "source": [
        "<a href=\"https://colab.research.google.com/github/TalitaBorg/Logica-de-Programacao/blob/main/Exerc%C3%ADcio_1_12_09.ipynb\" target=\"_parent\"><img src=\"https://colab.research.google.com/assets/colab-badge.svg\" alt=\"Open In Colab\"/></a>"
      ]
    },
    {
      "cell_type": "code",
      "execution_count": 2,
      "metadata": {
        "colab": {
          "base_uri": "https://localhost:8080/"
        },
        "id": "BkagbUG2x2nE",
        "outputId": "a0d269cf-f8e7-41a0-e4fe-02dafd48349b"
      },
      "outputs": [
        {
          "output_type": "stream",
          "name": "stdout",
          "text": [
            "Digite um número: 1\n",
            "Número não é par!\n",
            "Digite um número: 2\n",
            "Digite um número: 3\n",
            "Número não é par!\n",
            "Digite um número: 4\n",
            "Digite um número: 5\n",
            "Número não é par!\n",
            "Digite um número: 6\n",
            "Digite um número: 7\n",
            "Número não é par!\n",
            "Digite um número: 8\n",
            "Digite um número: 9\n",
            "Número não é par!\n",
            "Digite um número: 10\n",
            "A soma dos números pares é: 5\n"
          ]
        }
      ],
      "source": [
        "contaPar = 0\n",
        "contador = 0\n",
        "while(contador<10):\n",
        "  numero = int(input(\"Digite um número: \"))\n",
        "  if(numero % 2 == 0):\n",
        "    contaPar = contaPar + 1\n",
        "  else:\n",
        "    print(f\"Número não é par!\")\n",
        "  contador = contador +1\n",
        "print(f\"A soma dos números pares é: {(contaPar)}\")"
      ]
    }
  ]
}