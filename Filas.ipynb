{
  "nbformat": 4,
  "nbformat_minor": 0,
  "metadata": {
    "colab": {
      "provenance": [],
      "authorship_tag": "ABX9TyMpWMUXp28auXoCo+Xx2iPN",
      "include_colab_link": true
    },
    "kernelspec": {
      "name": "python3",
      "display_name": "Python 3"
    },
    "language_info": {
      "name": "python"
    }
  },
  "cells": [
    {
      "cell_type": "markdown",
      "metadata": {
        "id": "view-in-github",
        "colab_type": "text"
      },
      "source": [
        "<a href=\"https://colab.research.google.com/github/TalitaBorg/Logica-de-Programacao/blob/main/Filas.ipynb\" target=\"_parent\"><img src=\"https://colab.research.google.com/assets/colab-badge.svg\" alt=\"Open In Colab\"/></a>"
      ]
    },
    {
      "cell_type": "code",
      "source": [],
      "metadata": {
        "id": "X65Dyb85Dgip"
      },
      "execution_count": null,
      "outputs": []
    },
    {
      "cell_type": "code",
      "execution_count": 4,
      "metadata": {
        "colab": {
          "base_uri": "https://localhost:8080/"
        },
        "id": "cJyrqIDn-Ict",
        "outputId": "677dea33-8309-4e79-d2a8-2b8a35fee2ed"
      },
      "outputs": [
        {
          "name": "stdout",
          "output_type": "stream",
          "text": [
            "Existem 5 clientes na Fila\n",
            "Fila atual: [1, 2, 3, 4, 5]\n",
            "Digite A: para atendimento \n",
            " Digite F: para adicionar cliente no final da fila \n",
            " Digite S: sair.\n",
            "Operacao(A, F ou S):A\n",
            "Cliente 1 foi atendido\n",
            "Existem 4 clientes na Fila\n",
            "Fila atual: [2, 3, 4, 5]\n",
            "Digite A: para atendimento \n",
            " Digite F: para adicionar cliente no final da fila \n",
            " Digite S: sair.\n",
            "Operacao(A, F ou S):F\n",
            "Existem 5 clientes na Fila\n",
            "Fila atual: [2, 3, 4, 5, 6]\n",
            "Digite A: para atendimento \n",
            " Digite F: para adicionar cliente no final da fila \n",
            " Digite S: sair.\n",
            "Operacao(A, F ou S):S\n"
          ]
        }
      ],
      "source": [
        "#FILA\n",
        "\n",
        "ultimo = 5\n",
        "fila = list(range(1, ultimo+1))\n",
        "while True:\n",
        "  print(\"Existem %d clientes na Fila\" %len(fila))\n",
        "  print(\"Fila atual:\", fila)\n",
        "  print(\"Digite A: para atendimento \\n Digite F: para adicionar cliente no final da fila \\n Digite S: sair.\")\n",
        "  operacao = input(\"Operacao(A, F ou S):\")\n",
        "  if operacao == \"A\":\n",
        "    if(len(fila)>0):\n",
        "      atendimento = fila.pop(0)\n",
        "      print(\"Cliente %d foi atendido\" % atendimento)\n",
        "    else:\n",
        "      print(\"Fila está vazia!\")\n",
        "  elif operacao == \"F\":\n",
        "    ultimo = ultimo +1\n",
        "    fila.append(ultimo)\n",
        "  elif operacao == \"S\":\n",
        "    break\n",
        "  else:\n",
        "    print(\"Você digitou uma operação inválida!\")"
      ]
    },
    {
      "cell_type": "code",
      "source": [
        "#PILHA\n",
        "\n",
        "ultimo = 5\n",
        "pilha = list(range(1, ultimo+1))\n",
        "while True:\n",
        "  print(\"Existem %d pratos na Pilha\" % len(pilha))\n",
        "  print(\"Pilha atual:\", pilha)\n",
        "  print(\"Digite E: para empilhar pratos \\n Digite D: para desempilhar pratos \\n Digite S: sair.\")\n",
        "  operacao = input(\"Operacao(E, D ou S):\")\n",
        "  if(operacao == \"D\"):\n",
        "    if (len(pilha)>0):\n",
        "      desempilha = pilha.pop(-1)\n",
        "      print(\"Prato %d foi lavado ou desempilhado\" %desempilha)\n",
        "    else:\n",
        "      print(\"Pilha está vazia!\")\n",
        "  elif(operacao == \"E\"):\n",
        "    ultimo = ultimo+1\n",
        "    pilha.append(ultimo)\n",
        "    print(\"Prato %d empilhado!\")\n",
        "  elif(operacao == \"S\"):\n",
        "    break\n",
        "  else:\n",
        "    print(\"Você digitou operação inválida!\")"
      ],
      "metadata": {
        "colab": {
          "base_uri": "https://localhost:8080/"
        },
        "id": "A1_YGuAxLZex",
        "outputId": "9de0a4f0-f373-4df5-b49b-cb3bbb6a2032"
      },
      "execution_count": 7,
      "outputs": [
        {
          "name": "stdout",
          "output_type": "stream",
          "text": [
            "Existem 5 pratos na Pilha\n",
            "Pilha atual: [1, 2, 3, 4, 5]\n",
            "Digite E: para empilhar pratos \n",
            " Digite D: para desempilhar pratos \n",
            " Digite S: sair.\n",
            "Operacao(E, D ou S):E\n",
            "Prato %d empilhado!\n",
            "Existem 6 pratos na Pilha\n",
            "Pilha atual: [1, 2, 3, 4, 5, 6]\n",
            "Digite E: para empilhar pratos \n",
            " Digite D: para desempilhar pratos \n",
            " Digite S: sair.\n",
            "Operacao(E, D ou S):D\n",
            "Prato 6 foi lavado ou desempilhado\n",
            "Existem 5 pratos na Pilha\n",
            "Pilha atual: [1, 2, 3, 4, 5]\n",
            "Digite E: para empilhar pratos \n",
            " Digite D: para desempilhar pratos \n",
            " Digite S: sair.\n",
            "Operacao(E, D ou S):D\n",
            "Prato 5 foi lavado ou desempilhado\n",
            "Existem 4 pratos na Pilha\n",
            "Pilha atual: [1, 2, 3, 4]\n",
            "Digite E: para empilhar pratos \n",
            " Digite D: para desempilhar pratos \n",
            " Digite S: sair.\n",
            "Operacao(E, D ou S):D\n",
            "Prato 4 foi lavado ou desempilhado\n",
            "Existem 3 pratos na Pilha\n",
            "Pilha atual: [1, 2, 3]\n",
            "Digite E: para empilhar pratos \n",
            " Digite D: para desempilhar pratos \n",
            " Digite S: sair.\n",
            "Operacao(E, D ou S):S\n"
          ]
        }
      ]
    }
  ]
}