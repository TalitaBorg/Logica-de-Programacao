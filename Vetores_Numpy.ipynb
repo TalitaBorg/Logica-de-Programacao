{
  "nbformat": 4,
  "nbformat_minor": 0,
  "metadata": {
    "colab": {
      "provenance": [],
      "authorship_tag": "ABX9TyNEuERg8yw548Hymv5RIAo7",
      "include_colab_link": true
    },
    "kernelspec": {
      "name": "python3",
      "display_name": "Python 3"
    },
    "language_info": {
      "name": "python"
    }
  },
  "cells": [
    {
      "cell_type": "markdown",
      "metadata": {
        "id": "view-in-github",
        "colab_type": "text"
      },
      "source": [
        "<a href=\"https://colab.research.google.com/github/TalitaBorg/Logica-de-Programacao/blob/main/Vetores_Numpy.ipynb\" target=\"_parent\"><img src=\"https://colab.research.google.com/assets/colab-badge.svg\" alt=\"Open In Colab\"/></a>"
      ]
    },
    {
      "cell_type": "code",
      "execution_count": 14,
      "metadata": {
        "colab": {
          "base_uri": "https://localhost:8080/"
        },
        "id": "L9ksp6O7XvYM",
        "outputId": "2a33f5a2-12f7-4432-cd91-53a3a9099df2"
      },
      "outputs": [
        {
          "output_type": "stream",
          "name": "stdout",
          "text": [
            "6\n"
          ]
        }
      ],
      "source": [
        "import numpy as np\n",
        "\n",
        "a = np.array([1,2,3])\n",
        "b = np.array([4,5,6])\n",
        "soma = (a+b)\n",
        "#print(soma)\n",
        "subtracao = (a-b)\n",
        "#print(subtracao)\n",
        "multiplicacao = (a*b)\n",
        "#print(multiplicacao)\n",
        "produto = np.prod(a)\n",
        "print(produto)\n",
        "divisao = (a/b)\n",
        "#print(divisao)\n",
        "media = np.mean(a)\n",
        "#print(media)\n",
        "maior = np.max(b)\n",
        "#print(maior)\n",
        "\n",
        "\n"
      ]
    },
    {
      "cell_type": "code",
      "source": [
        "matriz1 = np.array([[1,2],[3,4]]).shape\n",
        "print(matriz1)"
      ],
      "metadata": {
        "colab": {
          "base_uri": "https://localhost:8080/"
        },
        "id": "-o45_F6IaWK9",
        "outputId": "62218561-2268-4089-f04f-4d3678e70e95"
      },
      "execution_count": 13,
      "outputs": [
        {
          "output_type": "stream",
          "name": "stdout",
          "text": [
            "(2, 2)\n"
          ]
        }
      ]
    },
    {
      "cell_type": "code",
      "source": [
        "matriz2 = np.array([1,2,3,4]).reshape(2,2)\n",
        "print(matriz2)"
      ],
      "metadata": {
        "colab": {
          "base_uri": "https://localhost:8080/"
        },
        "id": "S9lu1y5oakVx",
        "outputId": "68a8af54-138d-4a84-baf5-4b30a35710b9"
      },
      "execution_count": 11,
      "outputs": [
        {
          "output_type": "stream",
          "name": "stdout",
          "text": [
            "[[1 2]\n",
            " [3 4]]\n"
          ]
        }
      ]
    },
    {
      "cell_type": "code",
      "source": [
        "vetor = [10,6,1,8,3]\n",
        "ordena = np.sort(vetor) #ordena vetor\n",
        "print(ordena)"
      ],
      "metadata": {
        "colab": {
          "base_uri": "https://localhost:8080/"
        },
        "id": "HLpJjcsJZ7rS",
        "outputId": "b550f6a8-ba33-48e5-aa16-8c41a57bd324"
      },
      "execution_count": 9,
      "outputs": [
        {
          "output_type": "stream",
          "name": "stdout",
          "text": [
            "[ 1  3  6  8 10]\n"
          ]
        }
      ]
    }
  ]
}