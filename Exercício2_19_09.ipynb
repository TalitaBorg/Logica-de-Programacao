{
  "nbformat": 4,
  "nbformat_minor": 0,
  "metadata": {
    "colab": {
      "provenance": [],
      "authorship_tag": "ABX9TyPGhE9QwFsr8EHf0D+PGYWE",
      "include_colab_link": true
    },
    "kernelspec": {
      "name": "python3",
      "display_name": "Python 3"
    },
    "language_info": {
      "name": "python"
    }
  },
  "cells": [
    {
      "cell_type": "markdown",
      "metadata": {
        "id": "view-in-github",
        "colab_type": "text"
      },
      "source": [
        "<a href=\"https://colab.research.google.com/github/TalitaBorg/Logica-de-Programacao/blob/main/Exerc%C3%ADcio2_19_09.ipynb\" target=\"_parent\"><img src=\"https://colab.research.google.com/assets/colab-badge.svg\" alt=\"Open In Colab\"/></a>"
      ]
    },
    {
      "cell_type": "code",
      "execution_count": 5,
      "metadata": {
        "colab": {
          "base_uri": "https://localhost:8080/"
        },
        "id": "tStTpEO37jtb",
        "outputId": "1f1a6a99-8f75-4fb7-b9fd-d1e2c112ad42"
      },
      "outputs": [
        {
          "output_type": "stream",
          "name": "stdout",
          "text": [
            "Quantos números você quer digitar na lista? 3\n",
            "Digite um número 2\n",
            "Digite um número 1\n",
            "Digite um número 3\n",
            "A soma dos números é: 6\n"
          ]
        }
      ],
      "source": [
        "quantidade = int(input(\"Quantos números você quer digitar na lista? \"))\n",
        "numeros =[]\n",
        "for contador in range(1, quantidade + 1):\n",
        "  n = int(input(\"Digite um número \"))\n",
        "  numeros.append(n) #adiciona os números digitados pelo usuário na lista\n",
        "soma =0\n",
        "for n in numeros:\n",
        "  soma = soma + n\n",
        "print(f\"A soma dos números é: {soma}\")"
      ]
    }
  ]
}