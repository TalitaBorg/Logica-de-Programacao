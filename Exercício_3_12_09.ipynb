{
  "nbformat": 4,
  "nbformat_minor": 0,
  "metadata": {
    "colab": {
      "provenance": [],
      "authorship_tag": "ABX9TyO4NZF9uXqwJNvcKuDwUKdS",
      "include_colab_link": true
    },
    "kernelspec": {
      "name": "python3",
      "display_name": "Python 3"
    },
    "language_info": {
      "name": "python"
    }
  },
  "cells": [
    {
      "cell_type": "markdown",
      "metadata": {
        "id": "view-in-github",
        "colab_type": "text"
      },
      "source": [
        "<a href=\"https://colab.research.google.com/github/TalitaBorg/Logica-de-Programacao/blob/main/Exerc%C3%ADcio_3_12_09.ipynb\" target=\"_parent\"><img src=\"https://colab.research.google.com/assets/colab-badge.svg\" alt=\"Open In Colab\"/></a>"
      ]
    },
    {
      "cell_type": "code",
      "execution_count": 1,
      "metadata": {
        "colab": {
          "base_uri": "https://localhost:8080/"
        },
        "id": "vcm90Gic7y5I",
        "outputId": "c9b09d3f-e4ae-4efe-b195-afbf1b32ba56"
      },
      "outputs": [
        {
          "output_type": "stream",
          "name": "stdout",
          "text": [
            "Digite um número: 1\n",
            "Número não é par!\n",
            "Digite um número: 2\n",
            "Digite um número: 1\n",
            "Número não é par!\n",
            "Digite um número: 2\n",
            "Digite um número: 1\n",
            "Número não é par!\n",
            "Digite um número: 2\n",
            "Digite um número: 1\n",
            "Número não é par!\n",
            "Digite um número: 2\n",
            "Digite um número: 1\n",
            "Número não é par!\n",
            "Digite um número: 2\n",
            "A média dos números pares é: 2.0\n"
          ]
        }
      ],
      "source": [
        "contaPar = 0\n",
        "contador = 0\n",
        "somaPar = 0\n",
        "while(contador<10):\n",
        "  numero = int(input(\"Digite um número: \"))\n",
        "  if(numero % 2 == 0):\n",
        "    contaPar = contaPar + 1\n",
        "    somaPar = somaPar + numero #adiciona uma variável acumuladora que vai somando e armazenando o valor da operação\n",
        "  else:\n",
        "    print(f\"Número não é par!\")\n",
        "  contador = contador +1\n",
        "\n",
        "if(contaPar > 0):\n",
        "  media = (somaPar/contaPar)\n",
        "print(f\"A média dos números pares é: {(media)}\")\n",
        "#print(f\"Você digitou {(contaPar)} números pares:\")\n",
        "#print(f\"A soma dos números pares é: {(somaPar)}\")"
      ]
    }
  ]
}