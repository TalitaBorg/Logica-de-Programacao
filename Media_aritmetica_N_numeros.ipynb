{
  "nbformat": 4,
  "nbformat_minor": 0,
  "metadata": {
    "colab": {
      "provenance": [],
      "authorship_tag": "ABX9TyNxy8375jaEVkaZALapyMQN",
      "include_colab_link": true
    },
    "kernelspec": {
      "name": "python3",
      "display_name": "Python 3"
    },
    "language_info": {
      "name": "python"
    }
  },
  "cells": [
    {
      "cell_type": "markdown",
      "metadata": {
        "id": "view-in-github",
        "colab_type": "text"
      },
      "source": [
        "<a href=\"https://colab.research.google.com/github/TalitaBorg/Logica-de-Programacao/blob/main/Media_aritmetica_N_numeros.ipynb\" target=\"_parent\"><img src=\"https://colab.research.google.com/assets/colab-badge.svg\" alt=\"Open In Colab\"/></a>"
      ]
    },
    {
      "cell_type": "code",
      "execution_count": 6,
      "metadata": {
        "colab": {
          "base_uri": "https://localhost:8080/"
        },
        "id": "a4N1KLFC3O93",
        "outputId": "4e78d0d6-9e66-40d0-c004-2a973012f4da"
      },
      "outputs": [
        {
          "output_type": "stream",
          "name": "stdout",
          "text": [
            "Digite a quantidade de números que você deseja calcular a média: 2\n",
            "Digite um número: 1\n",
            "Digite um número: 1\n",
            "A média é: 1.0\n"
          ]
        }
      ],
      "source": [
        "quantidade = int(input(\"Digite a quantidade de números que você deseja calcular a média: \"))\n",
        "contador = 0\n",
        "soma = 0\n",
        "\n",
        "while(contador<quantidade):\n",
        "  numero = int(input(\"Digite um número: \"))\n",
        "  soma = soma + numero\n",
        "  contador = contador + 1\n",
        "\n",
        "media = (soma/quantidade)\n",
        "print(f\"A média é: {(media)}\")\n",
        ""
      ]
    }
  ]
}